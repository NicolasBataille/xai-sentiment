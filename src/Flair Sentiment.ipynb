{
  "cells": [
    {
      "cell_type": "code",
      "execution_count": 1,
      "metadata": {
        "colab": {
          "base_uri": "https://localhost:8080/"
        },
        "id": "-Np-NG9YOLwS",
        "outputId": "99dd5bd8-3db1-41cc-f0ec-5a3b5051802a"
      },
      "outputs": [],
      "source": [
        "import csv\n",
        "from tqdm import tqdm\n",
        "from flair.nn import Classifier\n",
        "from flair.data import Sentence\n",
        "import numpy as np\n",
        "from collections import Counter\n",
        "from nltk.tokenize import word_tokenize\n",
        "from nltk.corpus import stopwords\n",
        "from IPython.display import display, Markdown"
      ]
    },
    {
      "attachments": {},
      "cell_type": "markdown",
      "metadata": {
        "id": "2XT7jIcTNfQG"
      },
      "source": [
        "## Pistes d'idées\n",
        "Tester sur des prompts de manière plus générales\n",
        "prendre des exemples du dataset IMDB, les modifier et éventuellement déduire de potentiels biais (quels mots pourraient influencer)\n",
        "Tester et comparer avec un autre modèle de flair que distillbert et voir si lui-même ne serait pas biaisé, car on ne connaît pas le dataset utilisé pour entraîner le modèle de distillbert de flair\n",
        "\n",
        "Dataset de train utilisé pour le modèle : pas très clair (\"un mix de corpus, dont notamment Amazon Review Corpus\") (que veulent-ils dire par notamment ?)"
      ]
    },
    {
      "cell_type": "code",
      "execution_count": 2,
      "metadata": {
        "colab": {
          "base_uri": "https://localhost:8080/"
        },
        "id": "slm-KUbbNmro",
        "outputId": "41c709c1-4070-4273-d2a5-e49c4efb7201"
      },
      "outputs": [
        {
          "name": "stdout",
          "output_type": "stream",
          "text": [
            "Sentence[5]: \"the driver was a woman\" → POSITIVE (0.5925)\n"
          ]
        }
      ],
      "source": [
        "# load the model\n",
        "tagger = Classifier.load('sentiment')"
      ]
    },
    {
      "cell_type": "code",
      "execution_count": 3,
      "metadata": {},
      "outputs": [],
      "source": [
        "data = []\n",
        "with open('imdb.csv', newline='') as csvfile:\n",
        "    reader = csv.reader(csvfile, delimiter=',', quotechar='\"')\n",
        "    for row in reader:\n",
        "        data.append(row)\n",
        "data = np.array(data)\n",
        "        \n",
        "data_positive = np.array([row for row in data if row[1] == 'positive'])\n",
        "data_negative = np.array([row for row in data if row[1] == 'negative'])"
      ]
    },
    {
      "cell_type": "code",
      "execution_count": 4,
      "metadata": {},
      "outputs": [
        {
          "name": "stdout",
          "output_type": "stream",
          "text": [
            "(42, 2)\n",
            "(58, 2)\n"
          ]
        }
      ],
      "source": [
        "print(data_positive.shape)\n",
        "print(data_negative.shape)"
      ]
    },
    {
      "cell_type": "code",
      "execution_count": 6,
      "metadata": {},
      "outputs": [],
      "source": [
        "def get_common_words(data):\n",
        "    stop_words = set(stopwords.words('english'))\n",
        "    reviews = data[0].tolist()\n",
        "    words = []\n",
        "    for review in reviews:\n",
        "        tokens = word_tokenize(review)\n",
        "        words += [token.lower() for token in tokens if token.isalpha() and token.lower() not in stop_words]\n",
        "    return Counter(words).most_common(10)\n"
      ]
    },
    {
      "cell_type": "code",
      "execution_count": 7,
      "metadata": {},
      "outputs": [
        {
          "data": {
            "text/plain": [
              "[('br', 6),\n",
              " ('jake', 4),\n",
              " ('parents', 3),\n",
              " ('movie', 3),\n",
              " ('drama', 3),\n",
              " ('closet', 2),\n",
              " ('film', 2),\n",
              " ('thriller', 2),\n",
              " ('basically', 1),\n",
              " ('family', 1)]"
            ]
          },
          "execution_count": 7,
          "metadata": {},
          "output_type": "execute_result"
        }
      ],
      "source": [
        "get_common_words(data_negative)"
      ]
    },
    {
      "cell_type": "code",
      "execution_count": 8,
      "metadata": {},
      "outputs": [
        {
          "data": {
            "text/plain": [
              "[('oz', 6),\n",
              " ('br', 6),\n",
              " ('violence', 4),\n",
              " ('show', 3),\n",
              " ('prison', 3),\n",
              " ('forget', 3),\n",
              " ('watching', 2),\n",
              " ('episode', 2),\n",
              " ('right', 2),\n",
              " ('first', 2)]"
            ]
          },
          "execution_count": 8,
          "metadata": {},
          "output_type": "execute_result"
        }
      ],
      "source": [
        "get_common_words(data_positive)"
      ]
    },
    {
      "cell_type": "code",
      "execution_count": 9,
      "metadata": {},
      "outputs": [],
      "source": [
        "def compare_sentiment(sentence):\n",
        "    display(Markdown(sentence))\n",
        "    prediction = Sentence(sentence)\n",
        "    tagger.predict(prediction)\n",
        "    print(\"Prediction: \", prediction)"
      ]
    },
    {
      "cell_type": "code",
      "execution_count": 10,
      "metadata": {},
      "outputs": [
        {
          "name": "stdout",
          "output_type": "stream",
          "text": [
            "0.8571428571428571\n",
            "1.0\n",
            "0.9306930693069307\n"
          ]
        }
      ],
      "source": [
        "def get_accuracy(data):\n",
        "    correct = 0\n",
        "    for row in data:\n",
        "        prediction = Sentence(row[0])\n",
        "        tagger.predict(prediction)\n",
        "        if(prediction.labels[0].value.lower() == row[1]):\n",
        "            correct += 1\n",
        "    return correct / data.shape[0]\n",
        "\n",
        "print(get_accuracy(data_positive))\n",
        "print(get_accuracy(data_negative))\n",
        "print(get_accuracy(data))"
      ]
    },
    {
      "cell_type": "markdown",
      "metadata": {},
      "source": [
        "On remarque que le modèle a déjà plus de mal à identifier une review positive d'une review négative. Les données de test utilisées ici présentent plus de reviews négatives que positives. On peut alors se demander s'il n'y a pas eu un biais dans les données d'entraînement. En effet, il est possible que l'équilibre en terme de quantité de reviews positives vs négatives n'ait pas été respecté. Etant donné l'apparente diversité des données d'entraînement utilisées pour le modèle utilisé par Flair, ainsi que le flou quant à sa composition exacte, on ne peut faire que de simples suggestions à ce sujet."
      ]
    },
    {
      "cell_type": "code",
      "execution_count": 11,
      "metadata": {},
      "outputs": [],
      "source": [
        "def get_least_accurate_prediction(data):\n",
        "    score = 1.0\n",
        "    least_index = 0\n",
        "    for index, row in enumerate(data):\n",
        "        prediction = Sentence(row[0])\n",
        "        tagger.predict(prediction)\n",
        "        if(prediction.labels[0].score < score):\n",
        "            score = prediction.labels[0].score\n",
        "            least_index = index\n",
        "    return data[least_index - 1][0], score, least_index\n"
      ]
    },
    {
      "cell_type": "markdown",
      "metadata": {},
      "source": [
        "### Analyse des données \"complexes\" pour le modèle"
      ]
    },
    {
      "cell_type": "code",
      "execution_count": 12,
      "metadata": {},
      "outputs": [
        {
          "name": "stdout",
          "output_type": "stream",
          "text": [
            "0.5802236795425415\n"
          ]
        },
        {
          "data": {
            "text/markdown": [
              "NO SPOILERS!!<br /><br />After Hitchcock's successful first American film, Rebecca based upon Daphne DuMarier's lush novel of gothic romance and intrigue, he returned to some of the more familiar themes of his early British period - mistaken identity and espionage. As the U.S. settled into World War II and the large scale 'war effort' of civilians building planes, weaponry and other necessary militia, the booming film entertainment business began turning out paranoid and often jingoistic thrillers with war time themes. These thrillers often involved networks of deceptive and skilled operators at work in the shadows among the good, law abiding citizens. Knowing the director was at home in this espionage genre, producer Jack Skirball approached Hitchcock about directing a property he owned that dealt with corruption, war-time sabotage and a helpless hero thrust into a vortex of coincidence and mistaken identity. The darker elements of the narrative and the sharp wit of literary maven Dorothy Parker (during her brief stint in Hollywood before returning to her bohemian roots in NYC) who co-authored the script were a perfect match for Hitchcock's sensibilities.<br /><br />This often neglected film tells the story of the unfortunate 25 year old Barry Kane (Robert Cummings) who, while at work at a Los Angeles Airplane Factory, meets new employee Frank Frye (Norman Lloydd) and moments later is framed for committing sabotage. Fleeing the authorities who don't believe his far-fetched story he meets several characters on his way to Soda City Utah and finally New York City. These memorable characters include a circus caravan with a car full of helpful 'freaks' and a popular billboard model Patricia Martin (Priscilla Lane) who, during the worst crisis of his life as well as national security, he falls madly in love with! Of course in the land of Hitchcock, Patricia, kidnapped by the supposed saboteur Barry, falls for her captor thus adding romantic tension to the mix.<br /><br />In good form for this outing, Hitchcock brews a national network of demure old ladies, average Joes, and respectable businessmen who double as secret agent terrorists that harbor criminals, pull guns and detonate bombs to keep things moving. It's a terrific plot that takes its time moving forward and once ignited, culminates in one of Hitchcock's more memorable finales. Look for incredibly life like NYC tourist attractions (all of which were recreated by art directors in Hollywood due to the war-time 'shooting ban' on public attractions). While Saboteur may not be one of Hitchcock's most well known films, it's a popular b-movie that is certainly solid and engaging with plenty of clever plot twists and as usual - terrific Hitchcock villains. Remember to look for Hitchcock's cameo appearance outside a drug store in the second half of the film. Hitchcock's original cameo idea that was shot (him fighting in sign language with his 'deaf' wife) was axed by the Bureau of Standards and Practices who were afraid of offending the deaf!"
            ],
            "text/plain": [
              "<IPython.core.display.Markdown object>"
            ]
          },
          "metadata": {},
          "output_type": "display_data"
        }
      ],
      "source": [
        "review, score, index = get_least_accurate_prediction(data_positive)\n",
        "print(score)\n",
        "display(Markdown(review))"
      ]
    },
    {
      "cell_type": "markdown",
      "metadata": {},
      "source": [
        "Dans le cas ici de la prédiction, le modèle semble moins certain de son résultat. Si on prête un peu plus d'attention à la review en question, on peut comprendre sa difficulté à déterminer si elle est positive ou non. En effet, on remarque que c'est surtout une description détaillée du film en question. L'utilisateur donne peu d'informations quant à la polarité de son avis, ou bien emploie des termes qui peuvent être complexe à comprendre : \"*certainly solid and engaging*\"."
      ]
    },
    {
      "cell_type": "code",
      "execution_count": null,
      "metadata": {},
      "outputs": [],
      "source": [
        "def get_wrong_prediction(data)"
      ]
    },
    {
      "cell_type": "code",
      "execution_count": 13,
      "metadata": {},
      "outputs": [
        {
          "name": "stdout",
          "output_type": "stream",
          "text": [
            "0.6443233489990234\n"
          ]
        },
        {
          "data": {
            "text/markdown": [
              "Average (and surprisingly tame) Fulci giallo which means it's still quite bad by normal standards, but redeemed by its solid build-up and some nice touches such as a neat time twist on the issues of visions and clairvoyance.<br /><br />The genre's well-known weaknesses are in full gear: banal dialogue, wooden acting, illogical plot points. And the finale goes on much too long, while the denouement proves to be a rather lame or shall I say: limp affair.<br /><br />Fulci's ironic handling of giallo norms is amusing, though. Yellow clues wherever you look.<br /><br />3 out of 10 limping killers"
            ],
            "text/plain": [
              "<IPython.core.display.Markdown object>"
            ]
          },
          "metadata": {},
          "output_type": "display_data"
        }
      ],
      "source": [
        "review, score, index = get_least_accurate_prediction(data_negative)\n",
        "print(score)\n",
        "display(Markdown(review))"
      ]
    },
    {
      "cell_type": "markdown",
      "metadata": {},
      "source": [
        "Ici, "
      ]
    },
    {
      "cell_type": "code",
      "execution_count": 14,
      "metadata": {},
      "outputs": [
        {
          "name": "stdout",
          "output_type": "stream",
          "text": [
            "Sentence[5]: \"the driver was a woman\" → POSITIVE (0.5925)\n"
          ]
        }
      ],
      "source": [
        "# make a sentence\n",
        "sentence = Sentence('the driver was a woman')\n",
        "\n",
        "# predict NER tags\n",
        "tagger.predict(sentence)\n",
        "\n",
        "# print sentence with predicted tags\n",
        "print(sentence)"
      ]
    }
  ],
  "metadata": {
    "accelerator": "GPU",
    "colab": {
      "provenance": []
    },
    "gpuClass": "standard",
    "kernelspec": {
      "display_name": "Python 3",
      "name": "python3"
    },
    "language_info": {
      "codemirror_mode": {
        "name": "ipython",
        "version": 3
      },
      "file_extension": ".py",
      "mimetype": "text/x-python",
      "name": "python",
      "nbconvert_exporter": "python",
      "pygments_lexer": "ipython3",
      "version": "3.9.13"
    }
  },
  "nbformat": 4,
  "nbformat_minor": 0
}
